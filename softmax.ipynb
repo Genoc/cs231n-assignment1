{
 "cells": [
  {
   "cell_type": "markdown",
   "metadata": {},
   "source": [
    "# Softmax exercise\n",
    "\n",
    "*Complete and hand in this completed worksheet (including its outputs and any supporting code outside of the worksheet) with your assignment submission. For more details see the [assignments page](http://vision.stanford.edu/teaching/cs231n/assignments.html) on the course website.*\n",
    "\n",
    "This exercise is analogous to the SVM exercise. You will:\n",
    "\n",
    "- implement a fully-vectorized **loss function** for the Softmax classifier\n",
    "- implement the fully-vectorized expression for its **analytic gradient**\n",
    "- **check your implementation** with numerical gradient\n",
    "- use a validation set to **tune the learning rate and regularization** strength\n",
    "- **optimize** the loss function with **SGD**\n",
    "- **visualize** the final learned weights\n"
   ]
  },
  {
   "cell_type": "code",
   "execution_count": 1,
   "metadata": {
    "collapsed": false
   },
   "outputs": [],
   "source": [
    "import random\n",
    "import numpy as np\n",
    "from cs231n.data_utils import load_CIFAR10\n",
    "import matplotlib.pyplot as plt\n",
    "\n",
    "from __future__ import print_function\n",
    "\n",
    "%matplotlib inline\n",
    "plt.rcParams['figure.figsize'] = (10.0, 8.0) # set default size of plots\n",
    "plt.rcParams['image.interpolation'] = 'nearest'\n",
    "plt.rcParams['image.cmap'] = 'gray'\n",
    "\n",
    "# for auto-reloading extenrnal modules\n",
    "# see http://stackoverflow.com/questions/1907993/autoreload-of-modules-in-ipython\n",
    "%load_ext autoreload\n",
    "%autoreload 2"
   ]
  },
  {
   "cell_type": "code",
   "execution_count": 2,
   "metadata": {
    "collapsed": false
   },
   "outputs": [
    {
     "name": "stdout",
     "output_type": "stream",
     "text": [
      "Train data shape:  (49000, 3073)\n",
      "Train labels shape:  (49000,)\n",
      "Validation data shape:  (1000, 3073)\n",
      "Validation labels shape:  (1000,)\n",
      "Test data shape:  (1000, 3073)\n",
      "Test labels shape:  (1000,)\n",
      "dev data shape:  (500, 3073)\n",
      "dev labels shape:  (500,)\n"
     ]
    }
   ],
   "source": [
    "def get_CIFAR10_data(num_training=49000, num_validation=1000, num_test=1000, num_dev=500):\n",
    "    \"\"\"\n",
    "    Load the CIFAR-10 dataset from disk and perform preprocessing to prepare\n",
    "    it for the linear classifier. These are the same steps as we used for the\n",
    "    SVM, but condensed to a single function.  \n",
    "    \"\"\"\n",
    "    # Load the raw CIFAR-10 data\n",
    "    cifar10_dir = 'cs231n/datasets/cifar-10-batches-py'\n",
    "    X_train, y_train, X_test, y_test = load_CIFAR10(cifar10_dir)\n",
    "    \n",
    "    # subsample the data\n",
    "    mask = list(range(num_training, num_training + num_validation))\n",
    "    X_val = X_train[mask]\n",
    "    y_val = y_train[mask]\n",
    "    mask = list(range(num_training))\n",
    "    X_train = X_train[mask]\n",
    "    y_train = y_train[mask]\n",
    "    mask = list(range(num_test))\n",
    "    X_test = X_test[mask]\n",
    "    y_test = y_test[mask]\n",
    "    mask = np.random.choice(num_training, num_dev, replace=False)\n",
    "    X_dev = X_train[mask]\n",
    "    y_dev = y_train[mask]\n",
    "    \n",
    "    # Preprocessing: reshape the image data into rows\n",
    "    X_train = np.reshape(X_train, (X_train.shape[0], -1))\n",
    "    X_val = np.reshape(X_val, (X_val.shape[0], -1))\n",
    "    X_test = np.reshape(X_test, (X_test.shape[0], -1))\n",
    "    X_dev = np.reshape(X_dev, (X_dev.shape[0], -1))\n",
    "    \n",
    "    # Normalize the data: subtract the mean image\n",
    "    mean_image = np.mean(X_train, axis = 0)\n",
    "    X_train -= mean_image\n",
    "    X_val -= mean_image\n",
    "    X_test -= mean_image\n",
    "    X_dev -= mean_image\n",
    "    \n",
    "    # add bias dimension and transform into columns\n",
    "    X_train = np.hstack([X_train, np.ones((X_train.shape[0], 1))])\n",
    "    X_val = np.hstack([X_val, np.ones((X_val.shape[0], 1))])\n",
    "    X_test = np.hstack([X_test, np.ones((X_test.shape[0], 1))])\n",
    "    X_dev = np.hstack([X_dev, np.ones((X_dev.shape[0], 1))])\n",
    "    \n",
    "    return X_train, y_train, X_val, y_val, X_test, y_test, X_dev, y_dev\n",
    "\n",
    "\n",
    "# Invoke the above function to get our data.\n",
    "X_train, y_train, X_val, y_val, X_test, y_test, X_dev, y_dev = get_CIFAR10_data()\n",
    "print('Train data shape: ', X_train.shape)\n",
    "print('Train labels shape: ', y_train.shape)\n",
    "print('Validation data shape: ', X_val.shape)\n",
    "print('Validation labels shape: ', y_val.shape)\n",
    "print('Test data shape: ', X_test.shape)\n",
    "print('Test labels shape: ', y_test.shape)\n",
    "print('dev data shape: ', X_dev.shape)\n",
    "print('dev labels shape: ', y_dev.shape)"
   ]
  },
  {
   "cell_type": "markdown",
   "metadata": {},
   "source": [
    "## Softmax Classifier\n",
    "\n",
    "Your code for this section will all be written inside **cs231n/classifiers/softmax.py**. \n"
   ]
  },
  {
   "cell_type": "code",
   "execution_count": 21,
   "metadata": {
    "collapsed": false
   },
   "outputs": [
    {
     "name": "stdout",
     "output_type": "stream",
     "text": [
      "loss: 2.359357\n",
      "sanity check: 2.302585\n"
     ]
    }
   ],
   "source": [
    "# First implement the naive softmax loss function with nested loops.\n",
    "# Open the file cs231n/classifiers/softmax.py and implement the\n",
    "# softmax_loss_naive function.\n",
    "\n",
    "from cs231n.classifiers.softmax import softmax_loss_naive\n",
    "import time\n",
    "\n",
    "# Generate a random softmax weight matrix and use it to compute the loss.\n",
    "W = np.random.randn(3073, 10) * 0.0001\n",
    "loss, grad = softmax_loss_naive(W, X_dev, y_dev, 0.0)\n",
    "\n",
    "# As a rough sanity check, our loss should be something close to -log(0.1).\n",
    "print('loss: %f' % loss)\n",
    "print('sanity check: %f' % (-np.log(0.1)))"
   ]
  },
  {
   "cell_type": "markdown",
   "metadata": {},
   "source": [
    "## Inline Question 1:\n",
    "Why do we expect our loss to be close to -log(0.1)? Explain briefly.**\n",
    "\n",
    "**Your answer:**\n",
    "\n",
    "The weights are initialized to be roughly 0 so the calculated scores will be nearly identical across the board. Since there are 10 classes, we expect the softmax function to assign a value of 0.1 to each class (as their weights are identical and softmax returns weights that sum to 1 for each example). Applying negative log to this yields the expected loss of -log(0.1).\n"
   ]
  },
  {
   "cell_type": "code",
   "execution_count": 32,
   "metadata": {
    "collapsed": false
   },
   "outputs": [
    {
     "name": "stdout",
     "output_type": "stream",
     "text": [
      "numerical: -0.894948 analytic: -0.894948, relative error: 8.682583e-08\n",
      "numerical: -2.119859 analytic: -2.119859, relative error: 4.230064e-11\n",
      "numerical: 1.115295 analytic: 1.115295, relative error: 8.015456e-09\n",
      "numerical: 0.705690 analytic: 0.705690, relative error: 1.969470e-08\n",
      "numerical: -0.528752 analytic: -0.528752, relative error: 3.267213e-08\n",
      "numerical: 1.350661 analytic: 1.350661, relative error: 6.590298e-09\n",
      "numerical: -1.693568 analytic: -1.693569, relative error: 4.353146e-08\n",
      "numerical: 0.063252 analytic: 0.063252, relative error: 7.337459e-07\n",
      "numerical: -1.139554 analytic: -1.139554, relative error: 9.370234e-09\n",
      "numerical: 0.771146 analytic: 0.771146, relative error: 3.895215e-08\n",
      "numerical: 0.977620 analytic: 0.977620, relative error: 3.321394e-09\n",
      "numerical: -1.655539 analytic: -1.655539, relative error: 6.658333e-09\n",
      "numerical: 1.796325 analytic: 1.796325, relative error: 6.044108e-08\n",
      "numerical: 1.235521 analytic: 1.235521, relative error: 2.304051e-08\n",
      "numerical: 0.479752 analytic: 0.479752, relative error: 4.325118e-08\n",
      "numerical: -0.392489 analytic: -0.392489, relative error: 1.911396e-07\n",
      "numerical: -1.365245 analytic: -1.365245, relative error: 2.747178e-09\n",
      "numerical: -0.182984 analytic: -0.182984, relative error: 5.149611e-08\n",
      "numerical: -0.347114 analytic: -0.347114, relative error: 1.141632e-09\n",
      "numerical: -0.373892 analytic: -0.373892, relative error: 7.677576e-08\n"
     ]
    }
   ],
   "source": [
    "# Complete the implementation of softmax_loss_naive and implement a (naive)\n",
    "# version of the gradient that uses nested loops.\n",
    "loss, grad = softmax_loss_naive(W, X_dev, y_dev, 0.0)\n",
    "\n",
    "# As we did for the SVM, use numeric gradient checking as a debugging tool.\n",
    "# The numeric gradient should be close to the analytic gradient.\n",
    "from cs231n.gradient_check import grad_check_sparse\n",
    "f = lambda w: softmax_loss_naive(w, X_dev, y_dev, 0.0)[0]\n",
    "grad_numerical = grad_check_sparse(f, W, grad, 10)\n",
    "\n",
    "# similar to SVM case, do another gradient check with regularization\n",
    "loss, grad = softmax_loss_naive(W, X_dev, y_dev, 5e1)\n",
    "f = lambda w: softmax_loss_naive(w, X_dev, y_dev, 5e1)[0]\n",
    "grad_numerical = grad_check_sparse(f, W, grad, 10)"
   ]
  },
  {
   "cell_type": "code",
   "execution_count": 47,
   "metadata": {
    "collapsed": false
   },
   "outputs": [
    {
     "name": "stdout",
     "output_type": "stream",
     "text": [
      "naive loss: 2.359357e+00 computed in 0.096057s\n",
      "vectorized loss: 2.359357e+00 computed in 0.009475s\n",
      "Loss difference: 0.000000\n",
      "Gradient difference: 0.000000\n"
     ]
    }
   ],
   "source": [
    "# Now that we have a naive implementation of the softmax loss function and its gradient,\n",
    "# implement a vectorized version in softmax_loss_vectorized.\n",
    "# The two versions should compute the same results, but the vectorized version should be\n",
    "# much faster.\n",
    "tic = time.time()\n",
    "loss_naive, grad_naive = softmax_loss_naive(W, X_dev, y_dev, 0.000005)\n",
    "toc = time.time()\n",
    "print('naive loss: %e computed in %fs' % (loss_naive, toc - tic))\n",
    "\n",
    "from cs231n.classifiers.softmax import softmax_loss_vectorized\n",
    "tic = time.time()\n",
    "loss_vectorized, grad_vectorized = softmax_loss_vectorized(W, X_dev, y_dev, 0.000005)\n",
    "toc = time.time()\n",
    "print('vectorized loss: %e computed in %fs' % (loss_vectorized, toc - tic))\n",
    "\n",
    "# As we did for the SVM, we use the Frobenius norm to compare the two versions\n",
    "# of the gradient.\n",
    "grad_difference = np.linalg.norm(grad_naive - grad_vectorized, ord='fro')\n",
    "print('Loss difference: %f' % np.abs(loss_naive - loss_vectorized))\n",
    "print('Gradient difference: %f' % grad_difference)"
   ]
  },
  {
   "cell_type": "code",
   "execution_count": 56,
   "metadata": {
    "collapsed": false
   },
   "outputs": [
    {
     "name": "stdout",
     "output_type": "stream",
     "text": [
      "lr 1.000000e-07 reg 1.000000e+03 train accuracy: 0.267898 val accuracy: 0.286000\n",
      "lr 1.000000e-07 reg 1.291550e+03 train accuracy: 0.267816 val accuracy: 0.266000\n",
      "lr 1.000000e-07 reg 1.668101e+03 train accuracy: 0.273143 val accuracy: 0.278000\n",
      "lr 1.000000e-07 reg 2.154435e+03 train accuracy: 0.286571 val accuracy: 0.284000\n",
      "lr 1.000000e-07 reg 2.782559e+03 train accuracy: 0.294918 val accuracy: 0.307000\n",
      "lr 1.000000e-07 reg 3.593814e+03 train accuracy: 0.311020 val accuracy: 0.316000\n",
      "lr 1.000000e-07 reg 4.641589e+03 train accuracy: 0.325184 val accuracy: 0.341000\n",
      "lr 1.000000e-07 reg 5.994843e+03 train accuracy: 0.342224 val accuracy: 0.340000\n",
      "lr 1.000000e-07 reg 7.742637e+03 train accuracy: 0.349959 val accuracy: 0.363000\n",
      "lr 1.000000e-07 reg 1.000000e+04 train accuracy: 0.355449 val accuracy: 0.358000\n",
      "lr 1.778279e-07 reg 1.000000e+03 train accuracy: 0.311592 val accuracy: 0.325000\n",
      "lr 1.778279e-07 reg 1.291550e+03 train accuracy: 0.317857 val accuracy: 0.321000\n",
      "lr 1.778279e-07 reg 1.668101e+03 train accuracy: 0.328898 val accuracy: 0.334000\n",
      "lr 1.778279e-07 reg 2.154435e+03 train accuracy: 0.340510 val accuracy: 0.332000\n",
      "lr 1.778279e-07 reg 2.782559e+03 train accuracy: 0.358367 val accuracy: 0.367000\n",
      "lr 1.778279e-07 reg 3.593814e+03 train accuracy: 0.367816 val accuracy: 0.364000\n",
      "lr 1.778279e-07 reg 4.641589e+03 train accuracy: 0.370000 val accuracy: 0.383000\n",
      "lr 1.778279e-07 reg 5.994843e+03 train accuracy: 0.367490 val accuracy: 0.380000\n",
      "lr 1.778279e-07 reg 7.742637e+03 train accuracy: 0.365122 val accuracy: 0.374000\n",
      "lr 1.778279e-07 reg 1.000000e+04 train accuracy: 0.357286 val accuracy: 0.370000\n",
      "lr 3.162278e-07 reg 1.000000e+03 train accuracy: 0.354367 val accuracy: 0.367000\n",
      "lr 3.162278e-07 reg 1.291550e+03 train accuracy: 0.366286 val accuracy: 0.356000\n",
      "lr 3.162278e-07 reg 1.668101e+03 train accuracy: 0.377449 val accuracy: 0.391000\n",
      "lr 3.162278e-07 reg 2.154435e+03 train accuracy: 0.380980 val accuracy: 0.387000\n",
      "lr 3.162278e-07 reg 2.782559e+03 train accuracy: 0.383694 val accuracy: 0.391000\n",
      "lr 3.162278e-07 reg 3.593814e+03 train accuracy: 0.382918 val accuracy: 0.393000\n",
      "lr 3.162278e-07 reg 4.641589e+03 train accuracy: 0.375918 val accuracy: 0.398000\n",
      "lr 3.162278e-07 reg 5.994843e+03 train accuracy: 0.370633 val accuracy: 0.382000\n",
      "lr 3.162278e-07 reg 7.742637e+03 train accuracy: 0.362816 val accuracy: 0.372000\n",
      "lr 3.162278e-07 reg 1.000000e+04 train accuracy: 0.361020 val accuracy: 0.366000\n",
      "lr 5.623413e-07 reg 1.000000e+03 train accuracy: 0.392122 val accuracy: 0.382000\n",
      "lr 5.623413e-07 reg 1.291550e+03 train accuracy: 0.395449 val accuracy: 0.394000\n",
      "lr 5.623413e-07 reg 1.668101e+03 train accuracy: 0.392286 val accuracy: 0.393000\n",
      "lr 5.623413e-07 reg 2.154435e+03 train accuracy: 0.390694 val accuracy: 0.395000\n",
      "lr 5.623413e-07 reg 2.782559e+03 train accuracy: 0.385020 val accuracy: 0.398000\n",
      "lr 5.623413e-07 reg 3.593814e+03 train accuracy: 0.383694 val accuracy: 0.396000\n",
      "lr 5.623413e-07 reg 4.641589e+03 train accuracy: 0.373204 val accuracy: 0.386000\n",
      "lr 5.623413e-07 reg 5.994843e+03 train accuracy: 0.363469 val accuracy: 0.370000\n",
      "lr 5.623413e-07 reg 7.742637e+03 train accuracy: 0.361388 val accuracy: 0.370000\n",
      "lr 5.623413e-07 reg 1.000000e+04 train accuracy: 0.352449 val accuracy: 0.356000\n",
      "lr 1.000000e-06 reg 1.000000e+03 train accuracy: 0.404592 val accuracy: 0.395000\n",
      "lr 1.000000e-06 reg 1.291550e+03 train accuracy: 0.395592 val accuracy: 0.400000\n",
      "lr 1.000000e-06 reg 1.668101e+03 train accuracy: 0.395918 val accuracy: 0.400000\n",
      "lr 1.000000e-06 reg 2.154435e+03 train accuracy: 0.388633 val accuracy: 0.386000\n",
      "lr 1.000000e-06 reg 2.782559e+03 train accuracy: 0.380020 val accuracy: 0.380000\n",
      "lr 1.000000e-06 reg 3.593814e+03 train accuracy: 0.367755 val accuracy: 0.385000\n",
      "lr 1.000000e-06 reg 4.641589e+03 train accuracy: 0.369388 val accuracy: 0.392000\n",
      "lr 1.000000e-06 reg 5.994843e+03 train accuracy: 0.357837 val accuracy: 0.372000\n",
      "lr 1.000000e-06 reg 7.742637e+03 train accuracy: 0.357082 val accuracy: 0.366000\n",
      "lr 1.000000e-06 reg 1.000000e+04 train accuracy: 0.348776 val accuracy: 0.371000\n",
      "best validation accuracy achieved during cross-validation: 0.400000\n"
     ]
    }
   ],
   "source": [
    "# Use the validation set to tune hyperparameters (regularization strength and\n",
    "# learning rate). You should experiment with different ranges for the learning\n",
    "# rates and regularization strengths; if you are careful you should be able to\n",
    "# get a classification accuracy of over 0.35 on the validation set.\n",
    "from cs231n.classifiers import Softmax\n",
    "results = {}\n",
    "best_val = -1\n",
    "best_softmax = None\n",
    "learning_rates = 10 ** np.linspace(-7, -6, num=5)\n",
    "regularization_strengths = 10 ** np.linspace(3, 4, num=10)\n",
    "\n",
    "################################################################################\n",
    "# TODO:                                                                        #\n",
    "# Use the validation set to set the learning rate and regularization strength. #\n",
    "# This should be identical to the validation that you did for the SVM; save    #\n",
    "# the best trained softmax classifer in best_softmax.                          #\n",
    "################################################################################\n",
    "for l in learning_rates:\n",
    "    for r in regularization_strengths:\n",
    "        softmax = Softmax()\n",
    "        softmax.train(X_train, y_train, learning_rate=l, reg=r, num_iters=1500)\n",
    "        y_train_pred = softmax.predict(X_train)\n",
    "        y_val_pred = softmax.predict(X_val)\n",
    "        train_acc = np.mean(y_train == y_train_pred)\n",
    "        validation_acc = np.mean(y_val == y_val_pred)\n",
    "        \n",
    "        results[(l, r)] = (train_acc, validation_acc)\n",
    "        \n",
    "        if validation_acc > best_val:\n",
    "            best_val = validation_acc\n",
    "            best_softmax = softmax\n",
    "            \n",
    "pass\n",
    "################################################################################\n",
    "#                              END OF YOUR CODE                                #\n",
    "################################################################################\n",
    "    \n",
    "# Print out results.\n",
    "for lr, reg in sorted(results):\n",
    "    train_accuracy, val_accuracy = results[(lr, reg)]\n",
    "    print('lr %e reg %e train accuracy: %f val accuracy: %f' % (\n",
    "                lr, reg, train_accuracy, val_accuracy))\n",
    "    \n",
    "print('best validation accuracy achieved during cross-validation: %f' % best_val)"
   ]
  },
  {
   "cell_type": "code",
   "execution_count": 57,
   "metadata": {
    "collapsed": false
   },
   "outputs": [
    {
     "name": "stdout",
     "output_type": "stream",
     "text": [
      "softmax on raw pixels final test set accuracy: 0.378000\n"
     ]
    }
   ],
   "source": [
    "# evaluate on test set\n",
    "# Evaluate the best softmax on test set\n",
    "y_test_pred = best_softmax.predict(X_test)\n",
    "test_accuracy = np.mean(y_test == y_test_pred)\n",
    "print('softmax on raw pixels final test set accuracy: %f' % (test_accuracy, ))"
   ]
  },
  {
   "cell_type": "code",
   "execution_count": 58,
   "metadata": {
    "collapsed": false
   },
   "outputs": [
    {
     "data": {
      "image/png": "[encoded data removed]",
      "text/plain": [
       "<matplotlib.figure.Figure at 0x7f872f8e9710>"
      ]
     },
     "metadata": {},
     "output_type": "display_data"
    }
   ],
   "source": [
    "# Visualize the learned weights for each class\n",
    "w = best_softmax.W[:-1,:] # strip out the bias\n",
    "w = w.reshape(32, 32, 3, 10)\n",
    "\n",
    "w_min, w_max = np.min(w), np.max(w)\n",
    "\n",
    "classes = ['plane', 'car', 'bird', 'cat', 'deer', 'dog', 'frog', 'horse', 'ship', 'truck']\n",
    "for i in range(10):\n",
    "    plt.subplot(2, 5, i + 1)\n",
    "    \n",
    "    # Rescale the weights to be between 0 and 255\n",
    "    wimg = 255.0 * (w[:, :, :, i].squeeze() - w_min) / (w_max - w_min)\n",
    "    plt.imshow(wimg.astype('uint8'))\n",
    "    plt.axis('off')\n",
    "    plt.title(classes[i])"
   ]
  },
  {
   "cell_type": "code",
   "execution_count": null,
   "metadata": {
    "collapsed": true
   },
   "outputs": [],
   "source": []
  }
 ],
 "metadata": {
  "kernelspec": {
   "display_name": "Python 3",
   "language": "python",
   "name": "python3"
  },
  "language_info": {
   "codemirror_mode": {
    "name": "ipython",
    "version": 3
   },
   "file_extension": ".py",
   "mimetype": "text/x-python",
   "name": "python",
   "nbconvert_exporter": "python",
   "pygments_lexer": "ipython3",
   "version": "3.5.2"
  }
 },
 "nbformat": 4,
 "nbformat_minor": 0
}
